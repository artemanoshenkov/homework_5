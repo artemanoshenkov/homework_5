{
 "cells": [
  {
   "cell_type": "code",
   "execution_count": null,
   "id": "18c67b73-bfb2-4251-aef3-9c1aed2fdce7",
   "metadata": {},
   "outputs": [],
   "source": [
    "from pyspark.sql import SparkSession\n",
    "import pyspark.sql.functions as F\n",
    "\n",
    "spark = SparkSession.builder\\\n",
    ".appName(\"SparkHomework\")\\\n",
    ".config(\"spark.master\", \"local[*]\")\\\n",
    ".getOrCreate()\n",
    "\n",
    "web_server_logs_df = spark.read.options(header=True, inferSchema=True).csv('web_server_logs.csv')\n",
    "\n",
    "#1. Сгруппируйте данные по IP и посчитайте количество запросов для каждого IP, выводим 10 самых активных IP.\n",
    "print(\"Top 10 active IP addresses:\")\n",
    "top_ip_df = web_server_logs_df.groupBy(\"ip\")\\\n",
    "    .agg(F.count(\"method\").alias(\"request_count\"))\\\n",
    "    .orderBy(F.col(\"request_count\").desc()).limit(10)\\\n",
    "    .show()\n",
    "\n",
    "#2. Сгруппируйте данные по HTTP-методу и посчитайте количество запросов для каждого метода.\n",
    "print(\"Request count by HTTP method:\")\n",
    "count_by_http_df = web_server_logs_df.groupBy(\"method\")\\\n",
    "    .agg(F.count(\"method\").alias(\"method_count\"))\\\n",
    "    .show()\n",
    "\n",
    "#3. Профильтруйте и посчитайте количество запросов с кодом ответа 404.\n",
    "response_code_count = web_server_logs_df.filter(F.col(\"response_code\") == 404).count()\n",
    "print(\"Number of 404 response code: {}\".format(response_code_count))\n",
    "\n",
    "#4. Сгруппируйте данные по дате и просуммируйте размер ответов, сортируйте по дате.\n",
    "print(\"Total response size by day:\")\n",
    "response_size_by_day_df = web_server_logs_df\\\n",
    "    .withColumn(\"timestamp\", F.to_date(\"timestamp\", \"'yyyy-MM-dd'\"))\\\n",
    "    .groupBy(\"timestamp\").agg(F.sum(\"response_size\").alias(\"total_response_size\"))\\\n",
    "    .orderBy(\"timestamp\").show()\n",
    "\n",
    "spark.stop()"
   ]
  }
 ],
 "metadata": {
  "kernelspec": {
   "display_name": "Python 3 (ipykernel)",
   "language": "python",
   "name": "python3"
  },
  "language_info": {
   "codemirror_mode": {
    "name": "ipython",
    "version": 3
   },
   "file_extension": ".py",
   "mimetype": "text/x-python",
   "name": "python",
   "nbconvert_exporter": "python",
   "pygments_lexer": "ipython3",
   "version": "3.10.12"
  }
 },
 "nbformat": 4,
 "nbformat_minor": 5
}
